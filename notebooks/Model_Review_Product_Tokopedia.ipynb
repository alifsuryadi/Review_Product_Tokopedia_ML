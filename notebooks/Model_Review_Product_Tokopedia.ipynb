{
  "cells": [
    {
      "cell_type": "markdown",
      "metadata": {
        "id": "CTl4IunsqdaC"
      },
      "source": [
        "<a href=\"https://colab.research.google.com/drive/1UmAF__cZZzJMFTjWAB2wIBHU0vOi_2hh?usp=sharing\" target=\"_parent\"><img src=\"https://colab.research.google.com/assets/colab-badge.svg\" alt=\"Open In Colab\"/></a>"
      ]
    },
    {
      "cell_type": "markdown",
      "metadata": {
        "id": "SdUoTLY2MFeM"
      },
      "source": [
        "Sentiment Analysis for Amazon Polarity Dataset"
      ]
    },
    {
      "cell_type": "code",
      "execution_count": 25,
      "metadata": {
        "colab": {
          "base_uri": "https://localhost:8080/"
        },
        "id": "mNlWfieQA7Y8",
        "outputId": "443083b9-1d2c-40c8-b8a3-800a87628670"
      },
      "outputs": [
        {
          "name": "stdout",
          "output_type": "stream",
          "text": [
            "Requirement already satisfied: deep_translator in /usr/local/lib/python3.11/dist-packages (1.11.4)\n",
            "Requirement already satisfied: beautifulsoup4<5.0.0,>=4.9.1 in /usr/local/lib/python3.11/dist-packages (from deep_translator) (4.12.3)\n",
            "Requirement already satisfied: requests<3.0.0,>=2.23.0 in /usr/local/lib/python3.11/dist-packages (from deep_translator) (2.32.3)\n",
            "Requirement already satisfied: soupsieve>1.2 in /usr/local/lib/python3.11/dist-packages (from beautifulsoup4<5.0.0,>=4.9.1->deep_translator) (2.6)\n",
            "Requirement already satisfied: charset-normalizer<4,>=2 in /usr/local/lib/python3.11/dist-packages (from requests<3.0.0,>=2.23.0->deep_translator) (3.4.1)\n",
            "Requirement already satisfied: idna<4,>=2.5 in /usr/local/lib/python3.11/dist-packages (from requests<3.0.0,>=2.23.0->deep_translator) (3.10)\n",
            "Requirement already satisfied: urllib3<3,>=1.21.1 in /usr/local/lib/python3.11/dist-packages (from requests<3.0.0,>=2.23.0->deep_translator) (2.3.0)\n",
            "Requirement already satisfied: certifi>=2017.4.17 in /usr/local/lib/python3.11/dist-packages (from requests<3.0.0,>=2.23.0->deep_translator) (2024.12.14)\n"
          ]
        }
      ],
      "source": [
        "from transformers import BertTokenizer, TFBertForSequenceClassification\n",
        "import tensorflow as tf\n",
        "!pip install deep_translator\n",
        "from deep_translator import GoogleTranslator"
      ]
    },
    {
      "cell_type": "code",
      "execution_count": 26,
      "metadata": {
        "id": "a3kPdwcKBSVA"
      },
      "outputs": [],
      "source": [
        "!pip install --q datasets\n",
        "from datasets import load_dataset\n",
        "import pandas as pd"
      ]
    },
    {
      "cell_type": "code",
      "execution_count": 27,
      "metadata": {
        "id": "uYJopnd4BTFW"
      },
      "outputs": [],
      "source": [
        "train_dataset, test_dataset = load_dataset(\"fancyzhx/amazon_polarity\", split=['train[:2000]', 'test[:500]'])\n",
        "\n",
        "train_df = pd.DataFrame(train_dataset['content'], columns=['content'])\n",
        "train_df['label'] = train_dataset['label']\n",
        "\n",
        "test_df = pd.DataFrame(test_dataset['content'], columns=['content'])\n",
        "test_df['label'] = test_dataset['label']"
      ]
    },
    {
      "cell_type": "code",
      "execution_count": 28,
      "metadata": {
        "id": "JZpS3RACBU0l"
      },
      "outputs": [],
      "source": [
        "def translate_to_indo(text):\n",
        "    translator = GoogleTranslator(source='en', target='id')\n",
        "    translated_text = translator.translate(text)\n",
        "    return translated_text\n",
        "\n",
        "# train_df['content'] = train_df['content'].apply(translate_to_indo)\n",
        "# test_df['content'] = test_df['content'].apply(translate_to_indo)"
      ]
    },
    {
      "cell_type": "code",
      "execution_count": 29,
      "metadata": {
        "id": "8Ud1kP1IxNBa"
      },
      "outputs": [],
      "source": [
        "train_df = pd.read_csv(\"train_review_product.csv\")\n",
        "test_df = pd.read_csv(\"test_review_product.csv\")"
      ]
    },
    {
      "cell_type": "code",
      "execution_count": 30,
      "metadata": {
        "colab": {
          "base_uri": "https://localhost:8080/",
          "height": 363
        },
        "id": "w-wchTeHxa6f",
        "outputId": "e9c49ab7-97ac-4ece-c5a9-85c301d819b6"
      },
      "outputs": [
        {
          "data": {
            "application/vnd.google.colaboratory.intrinsic+json": {
              "summary": "{\n  \"name\": \"train_df\",\n  \"rows\": 10,\n  \"fields\": [\n    {\n      \"column\": \"content\",\n      \"properties\": {\n        \"dtype\": \"string\",\n        \"num_unique_values\": 10,\n        \"samples\": [\n          \"Barang sesuai dengan foto, sangat puas.\",\n          \"Tidak sesuai dengan harapan, kualitas buruk.\",\n          \"Barang cacat, sangat mengecewakan.\"\n        ],\n        \"semantic_type\": \"\",\n        \"description\": \"\"\n      }\n    },\n    {\n      \"column\": \"label\",\n      \"properties\": {\n        \"dtype\": \"number\",\n        \"std\": 0,\n        \"min\": 0,\n        \"max\": 1,\n        \"num_unique_values\": 2,\n        \"samples\": [\n          0,\n          1\n        ],\n        \"semantic_type\": \"\",\n        \"description\": \"\"\n      }\n    }\n  ]\n}",
              "type": "dataframe",
              "variable_name": "train_df"
            },
            "text/html": [
              "\n",
              "  <div id=\"df-23bcd384-0dc2-4098-8abb-0a023b7e581a\" class=\"colab-df-container\">\n",
              "    <div>\n",
              "<style scoped>\n",
              "    .dataframe tbody tr th:only-of-type {\n",
              "        vertical-align: middle;\n",
              "    }\n",
              "\n",
              "    .dataframe tbody tr th {\n",
              "        vertical-align: top;\n",
              "    }\n",
              "\n",
              "    .dataframe thead th {\n",
              "        text-align: right;\n",
              "    }\n",
              "</style>\n",
              "<table border=\"1\" class=\"dataframe\">\n",
              "  <thead>\n",
              "    <tr style=\"text-align: right;\">\n",
              "      <th></th>\n",
              "      <th>content</th>\n",
              "      <th>label</th>\n",
              "    </tr>\n",
              "  </thead>\n",
              "  <tbody>\n",
              "    <tr>\n",
              "      <th>0</th>\n",
              "      <td>Produk ini sangat bagus dan memuaskan!</td>\n",
              "      <td>1</td>\n",
              "    </tr>\n",
              "    <tr>\n",
              "      <th>1</th>\n",
              "      <td>Tidak sesuai dengan harapan, kualitas buruk.</td>\n",
              "      <td>0</td>\n",
              "    </tr>\n",
              "    <tr>\n",
              "      <th>2</th>\n",
              "      <td>Paket datang cepat dan barang sesuai deskripsi.</td>\n",
              "      <td>1</td>\n",
              "    </tr>\n",
              "    <tr>\n",
              "      <th>3</th>\n",
              "      <td>Sangat kecewa, produk tidak berfungsi sama sek...</td>\n",
              "      <td>0</td>\n",
              "    </tr>\n",
              "    <tr>\n",
              "      <th>4</th>\n",
              "      <td>Harga terjangkau, kualitas oke.</td>\n",
              "      <td>1</td>\n",
              "    </tr>\n",
              "    <tr>\n",
              "      <th>5</th>\n",
              "      <td>Barang cacat, sangat mengecewakan.</td>\n",
              "      <td>0</td>\n",
              "    </tr>\n",
              "    <tr>\n",
              "      <th>6</th>\n",
              "      <td>Produk berkualitas tinggi, sangat direkomendas...</td>\n",
              "      <td>1</td>\n",
              "    </tr>\n",
              "    <tr>\n",
              "      <th>7</th>\n",
              "      <td>Layanan pengiriman sangat lambat, tidak puas.</td>\n",
              "      <td>0</td>\n",
              "    </tr>\n",
              "    <tr>\n",
              "      <th>8</th>\n",
              "      <td>Barang sesuai dengan foto, sangat puas.</td>\n",
              "      <td>1</td>\n",
              "    </tr>\n",
              "    <tr>\n",
              "      <th>9</th>\n",
              "      <td>Produk murah tapi kualitas buruk, tidak direko...</td>\n",
              "      <td>0</td>\n",
              "    </tr>\n",
              "  </tbody>\n",
              "</table>\n",
              "</div>\n",
              "    <div class=\"colab-df-buttons\">\n",
              "\n",
              "  <div class=\"colab-df-container\">\n",
              "    <button class=\"colab-df-convert\" onclick=\"convertToInteractive('df-23bcd384-0dc2-4098-8abb-0a023b7e581a')\"\n",
              "            title=\"Convert this dataframe to an interactive table.\"\n",
              "            style=\"display:none;\">\n",
              "\n",
              "  <svg xmlns=\"http://www.w3.org/2000/svg\" height=\"24px\" viewBox=\"0 -960 960 960\">\n",
              "    <path d=\"M120-120v-720h720v720H120Zm60-500h600v-160H180v160Zm220 220h160v-160H400v160Zm0 220h160v-160H400v160ZM180-400h160v-160H180v160Zm440 0h160v-160H620v160ZM180-180h160v-160H180v160Zm440 0h160v-160H620v160Z\"/>\n",
              "  </svg>\n",
              "    </button>\n",
              "\n",
              "  <style>\n",
              "    .colab-df-container {\n",
              "      display:flex;\n",
              "      gap: 12px;\n",
              "    }\n",
              "\n",
              "    .colab-df-convert {\n",
              "      background-color: #E8F0FE;\n",
              "      border: none;\n",
              "      border-radius: 50%;\n",
              "      cursor: pointer;\n",
              "      display: none;\n",
              "      fill: #1967D2;\n",
              "      height: 32px;\n",
              "      padding: 0 0 0 0;\n",
              "      width: 32px;\n",
              "    }\n",
              "\n",
              "    .colab-df-convert:hover {\n",
              "      background-color: #E2EBFA;\n",
              "      box-shadow: 0px 1px 2px rgba(60, 64, 67, 0.3), 0px 1px 3px 1px rgba(60, 64, 67, 0.15);\n",
              "      fill: #174EA6;\n",
              "    }\n",
              "\n",
              "    .colab-df-buttons div {\n",
              "      margin-bottom: 4px;\n",
              "    }\n",
              "\n",
              "    [theme=dark] .colab-df-convert {\n",
              "      background-color: #3B4455;\n",
              "      fill: #D2E3FC;\n",
              "    }\n",
              "\n",
              "    [theme=dark] .colab-df-convert:hover {\n",
              "      background-color: #434B5C;\n",
              "      box-shadow: 0px 1px 3px 1px rgba(0, 0, 0, 0.15);\n",
              "      filter: drop-shadow(0px 1px 2px rgba(0, 0, 0, 0.3));\n",
              "      fill: #FFFFFF;\n",
              "    }\n",
              "  </style>\n",
              "\n",
              "    <script>\n",
              "      const buttonEl =\n",
              "        document.querySelector('#df-23bcd384-0dc2-4098-8abb-0a023b7e581a button.colab-df-convert');\n",
              "      buttonEl.style.display =\n",
              "        google.colab.kernel.accessAllowed ? 'block' : 'none';\n",
              "\n",
              "      async function convertToInteractive(key) {\n",
              "        const element = document.querySelector('#df-23bcd384-0dc2-4098-8abb-0a023b7e581a');\n",
              "        const dataTable =\n",
              "          await google.colab.kernel.invokeFunction('convertToInteractive',\n",
              "                                                    [key], {});\n",
              "        if (!dataTable) return;\n",
              "\n",
              "        const docLinkHtml = 'Like what you see? Visit the ' +\n",
              "          '<a target=\"_blank\" href=https://colab.research.google.com/notebooks/data_table.ipynb>data table notebook</a>'\n",
              "          + ' to learn more about interactive tables.';\n",
              "        element.innerHTML = '';\n",
              "        dataTable['output_type'] = 'display_data';\n",
              "        await google.colab.output.renderOutput(dataTable, element);\n",
              "        const docLink = document.createElement('div');\n",
              "        docLink.innerHTML = docLinkHtml;\n",
              "        element.appendChild(docLink);\n",
              "      }\n",
              "    </script>\n",
              "  </div>\n",
              "\n",
              "\n",
              "<div id=\"df-c9bb68f9-db48-4898-9ccb-c74e3d079ce2\">\n",
              "  <button class=\"colab-df-quickchart\" onclick=\"quickchart('df-c9bb68f9-db48-4898-9ccb-c74e3d079ce2')\"\n",
              "            title=\"Suggest charts\"\n",
              "            style=\"display:none;\">\n",
              "\n",
              "<svg xmlns=\"http://www.w3.org/2000/svg\" height=\"24px\"viewBox=\"0 0 24 24\"\n",
              "     width=\"24px\">\n",
              "    <g>\n",
              "        <path d=\"M19 3H5c-1.1 0-2 .9-2 2v14c0 1.1.9 2 2 2h14c1.1 0 2-.9 2-2V5c0-1.1-.9-2-2-2zM9 17H7v-7h2v7zm4 0h-2V7h2v10zm4 0h-2v-4h2v4z\"/>\n",
              "    </g>\n",
              "</svg>\n",
              "  </button>\n",
              "\n",
              "<style>\n",
              "  .colab-df-quickchart {\n",
              "      --bg-color: #E8F0FE;\n",
              "      --fill-color: #1967D2;\n",
              "      --hover-bg-color: #E2EBFA;\n",
              "      --hover-fill-color: #174EA6;\n",
              "      --disabled-fill-color: #AAA;\n",
              "      --disabled-bg-color: #DDD;\n",
              "  }\n",
              "\n",
              "  [theme=dark] .colab-df-quickchart {\n",
              "      --bg-color: #3B4455;\n",
              "      --fill-color: #D2E3FC;\n",
              "      --hover-bg-color: #434B5C;\n",
              "      --hover-fill-color: #FFFFFF;\n",
              "      --disabled-bg-color: #3B4455;\n",
              "      --disabled-fill-color: #666;\n",
              "  }\n",
              "\n",
              "  .colab-df-quickchart {\n",
              "    background-color: var(--bg-color);\n",
              "    border: none;\n",
              "    border-radius: 50%;\n",
              "    cursor: pointer;\n",
              "    display: none;\n",
              "    fill: var(--fill-color);\n",
              "    height: 32px;\n",
              "    padding: 0;\n",
              "    width: 32px;\n",
              "  }\n",
              "\n",
              "  .colab-df-quickchart:hover {\n",
              "    background-color: var(--hover-bg-color);\n",
              "    box-shadow: 0 1px 2px rgba(60, 64, 67, 0.3), 0 1px 3px 1px rgba(60, 64, 67, 0.15);\n",
              "    fill: var(--button-hover-fill-color);\n",
              "  }\n",
              "\n",
              "  .colab-df-quickchart-complete:disabled,\n",
              "  .colab-df-quickchart-complete:disabled:hover {\n",
              "    background-color: var(--disabled-bg-color);\n",
              "    fill: var(--disabled-fill-color);\n",
              "    box-shadow: none;\n",
              "  }\n",
              "\n",
              "  .colab-df-spinner {\n",
              "    border: 2px solid var(--fill-color);\n",
              "    border-color: transparent;\n",
              "    border-bottom-color: var(--fill-color);\n",
              "    animation:\n",
              "      spin 1s steps(1) infinite;\n",
              "  }\n",
              "\n",
              "  @keyframes spin {\n",
              "    0% {\n",
              "      border-color: transparent;\n",
              "      border-bottom-color: var(--fill-color);\n",
              "      border-left-color: var(--fill-color);\n",
              "    }\n",
              "    20% {\n",
              "      border-color: transparent;\n",
              "      border-left-color: var(--fill-color);\n",
              "      border-top-color: var(--fill-color);\n",
              "    }\n",
              "    30% {\n",
              "      border-color: transparent;\n",
              "      border-left-color: var(--fill-color);\n",
              "      border-top-color: var(--fill-color);\n",
              "      border-right-color: var(--fill-color);\n",
              "    }\n",
              "    40% {\n",
              "      border-color: transparent;\n",
              "      border-right-color: var(--fill-color);\n",
              "      border-top-color: var(--fill-color);\n",
              "    }\n",
              "    60% {\n",
              "      border-color: transparent;\n",
              "      border-right-color: var(--fill-color);\n",
              "    }\n",
              "    80% {\n",
              "      border-color: transparent;\n",
              "      border-right-color: var(--fill-color);\n",
              "      border-bottom-color: var(--fill-color);\n",
              "    }\n",
              "    90% {\n",
              "      border-color: transparent;\n",
              "      border-bottom-color: var(--fill-color);\n",
              "    }\n",
              "  }\n",
              "</style>\n",
              "\n",
              "  <script>\n",
              "    async function quickchart(key) {\n",
              "      const quickchartButtonEl =\n",
              "        document.querySelector('#' + key + ' button');\n",
              "      quickchartButtonEl.disabled = true;  // To prevent multiple clicks.\n",
              "      quickchartButtonEl.classList.add('colab-df-spinner');\n",
              "      try {\n",
              "        const charts = await google.colab.kernel.invokeFunction(\n",
              "            'suggestCharts', [key], {});\n",
              "      } catch (error) {\n",
              "        console.error('Error during call to suggestCharts:', error);\n",
              "      }\n",
              "      quickchartButtonEl.classList.remove('colab-df-spinner');\n",
              "      quickchartButtonEl.classList.add('colab-df-quickchart-complete');\n",
              "    }\n",
              "    (() => {\n",
              "      let quickchartButtonEl =\n",
              "        document.querySelector('#df-c9bb68f9-db48-4898-9ccb-c74e3d079ce2 button');\n",
              "      quickchartButtonEl.style.display =\n",
              "        google.colab.kernel.accessAllowed ? 'block' : 'none';\n",
              "    })();\n",
              "  </script>\n",
              "</div>\n",
              "\n",
              "  <div id=\"id_b10faadb-8e4f-4d55-82c5-cc61e9d4d2b6\">\n",
              "    <style>\n",
              "      .colab-df-generate {\n",
              "        background-color: #E8F0FE;\n",
              "        border: none;\n",
              "        border-radius: 50%;\n",
              "        cursor: pointer;\n",
              "        display: none;\n",
              "        fill: #1967D2;\n",
              "        height: 32px;\n",
              "        padding: 0 0 0 0;\n",
              "        width: 32px;\n",
              "      }\n",
              "\n",
              "      .colab-df-generate:hover {\n",
              "        background-color: #E2EBFA;\n",
              "        box-shadow: 0px 1px 2px rgba(60, 64, 67, 0.3), 0px 1px 3px 1px rgba(60, 64, 67, 0.15);\n",
              "        fill: #174EA6;\n",
              "      }\n",
              "\n",
              "      [theme=dark] .colab-df-generate {\n",
              "        background-color: #3B4455;\n",
              "        fill: #D2E3FC;\n",
              "      }\n",
              "\n",
              "      [theme=dark] .colab-df-generate:hover {\n",
              "        background-color: #434B5C;\n",
              "        box-shadow: 0px 1px 3px 1px rgba(0, 0, 0, 0.15);\n",
              "        filter: drop-shadow(0px 1px 2px rgba(0, 0, 0, 0.3));\n",
              "        fill: #FFFFFF;\n",
              "      }\n",
              "    </style>\n",
              "    <button class=\"colab-df-generate\" onclick=\"generateWithVariable('train_df')\"\n",
              "            title=\"Generate code using this dataframe.\"\n",
              "            style=\"display:none;\">\n",
              "\n",
              "  <svg xmlns=\"http://www.w3.org/2000/svg\" height=\"24px\"viewBox=\"0 0 24 24\"\n",
              "       width=\"24px\">\n",
              "    <path d=\"M7,19H8.4L18.45,9,17,7.55,7,17.6ZM5,21V16.75L18.45,3.32a2,2,0,0,1,2.83,0l1.4,1.43a1.91,1.91,0,0,1,.58,1.4,1.91,1.91,0,0,1-.58,1.4L9.25,21ZM18.45,9,17,7.55Zm-12,3A5.31,5.31,0,0,0,4.9,8.1,5.31,5.31,0,0,0,1,6.5,5.31,5.31,0,0,0,4.9,4.9,5.31,5.31,0,0,0,6.5,1,5.31,5.31,0,0,0,8.1,4.9,5.31,5.31,0,0,0,12,6.5,5.46,5.46,0,0,0,6.5,12Z\"/>\n",
              "  </svg>\n",
              "    </button>\n",
              "    <script>\n",
              "      (() => {\n",
              "      const buttonEl =\n",
              "        document.querySelector('#id_b10faadb-8e4f-4d55-82c5-cc61e9d4d2b6 button.colab-df-generate');\n",
              "      buttonEl.style.display =\n",
              "        google.colab.kernel.accessAllowed ? 'block' : 'none';\n",
              "\n",
              "      buttonEl.onclick = () => {\n",
              "        google.colab.notebook.generateWithVariable('train_df');\n",
              "      }\n",
              "      })();\n",
              "    </script>\n",
              "  </div>\n",
              "\n",
              "    </div>\n",
              "  </div>\n"
            ],
            "text/plain": [
              "                                             content  label\n",
              "0             Produk ini sangat bagus dan memuaskan!      1\n",
              "1       Tidak sesuai dengan harapan, kualitas buruk.      0\n",
              "2    Paket datang cepat dan barang sesuai deskripsi.      1\n",
              "3  Sangat kecewa, produk tidak berfungsi sama sek...      0\n",
              "4                    Harga terjangkau, kualitas oke.      1\n",
              "5                 Barang cacat, sangat mengecewakan.      0\n",
              "6  Produk berkualitas tinggi, sangat direkomendas...      1\n",
              "7      Layanan pengiriman sangat lambat, tidak puas.      0\n",
              "8            Barang sesuai dengan foto, sangat puas.      1\n",
              "9  Produk murah tapi kualitas buruk, tidak direko...      0"
            ]
          },
          "execution_count": 30,
          "metadata": {},
          "output_type": "execute_result"
        }
      ],
      "source": [
        "train_df"
      ]
    },
    {
      "cell_type": "code",
      "execution_count": 31,
      "metadata": {
        "id": "qsVVZ7BpBWpC"
      },
      "outputs": [],
      "source": [
        "model_name = 'cahya/bert-base-indonesian-522M'\n",
        "tokenizer = BertTokenizer.from_pretrained(model_name)\n",
        "\n",
        "MAX_LENGTH = 100\n",
        "\n",
        "train_tokenized = tokenizer(\n",
        "    text=train_df['content'].tolist(),\n",
        "    add_special_tokens=True,\n",
        "    max_length=MAX_LENGTH,\n",
        "    truncation=True,\n",
        "    padding=True,\n",
        "    return_tensors='tf',\n",
        "    return_token_type_ids=False,\n",
        "    return_attention_mask=True\n",
        ")\n",
        "\n",
        "test_tokenized = tokenizer(\n",
        "    text=test_df['content'].tolist(),\n",
        "    add_special_tokens=True,\n",
        "    max_length=MAX_LENGTH,\n",
        "    truncation=True,\n",
        "    padding=True,\n",
        "    return_tensors='tf',\n",
        "    return_token_type_ids=False,\n",
        "    return_attention_mask=True\n",
        ")\n",
        "\n",
        "train_input_ids = tf.cast(train_tokenized['input_ids'], tf.int32)\n",
        "train_attention_mask = tf.cast(train_tokenized['attention_mask'], tf.int32)\n",
        "\n",
        "test_input_ids = tf.cast(test_tokenized['input_ids'], tf.int32)\n",
        "test_attention_mask = tf.cast(test_tokenized['attention_mask'], tf.int32)\n",
        "\n",
        "train_labels = tf.convert_to_tensor(train_df['label'])\n",
        "test_labels = tf.convert_to_tensor(test_df['label'])"
      ]
    },
    {
      "cell_type": "code",
      "execution_count": 32,
      "metadata": {
        "colab": {
          "base_uri": "https://localhost:8080/"
        },
        "id": "MCFudHt5Bbzr",
        "outputId": "7b912da0-d760-476f-85b0-015f615f8bba"
      },
      "outputs": [
        {
          "name": "stderr",
          "output_type": "stream",
          "text": [
            "All model checkpoint layers were used when initializing TFBertForSequenceClassification.\n",
            "\n",
            "Some layers of TFBertForSequenceClassification were not initialized from the model checkpoint at cahya/bert-base-indonesian-522M and are newly initialized: ['classifier']\n",
            "You should probably TRAIN this model on a down-stream task to be able to use it for predictions and inference.\n"
          ]
        }
      ],
      "source": [
        "model = TFBertForSequenceClassification.from_pretrained(model_name, num_labels=2)"
      ]
    },
    {
      "cell_type": "code",
      "execution_count": 33,
      "metadata": {
        "id": "yQC42WbfBcpk"
      },
      "outputs": [],
      "source": [
        "optimizer = tf.keras.optimizers.AdamW(learning_rate=1e-4, weight_decay=0.01)\n",
        "loss = tf.keras.losses.SparseCategoricalCrossentropy(from_logits=True)\n",
        "metrics = ['accuracy']"
      ]
    },
    {
      "cell_type": "code",
      "execution_count": 34,
      "metadata": {
        "id": "e_WPaatvBepv"
      },
      "outputs": [],
      "source": [
        "model.compile(optimizer=optimizer, loss=loss, metrics=metrics)"
      ]
    },
    {
      "cell_type": "code",
      "execution_count": 35,
      "metadata": {
        "colab": {
          "base_uri": "https://localhost:8080/"
        },
        "id": "2VfvTOQBBgkp",
        "outputId": "340be59b-6e9f-45ad-8710-be9c01ab84c8"
      },
      "outputs": [
        {
          "name": "stdout",
          "output_type": "stream",
          "text": [
            "Epoch 1/7\n",
            "1/1 [==============================] - 58s 58s/step - loss: 0.6624 - accuracy: 0.8000 - val_loss: 0.6323 - val_accuracy: 0.6000\n",
            "Epoch 2/7\n",
            "1/1 [==============================] - 0s 232ms/step - loss: 0.5095 - accuracy: 0.7000 - val_loss: 0.8049 - val_accuracy: 0.4000\n",
            "Epoch 3/7\n",
            "1/1 [==============================] - 0s 219ms/step - loss: 0.5297 - accuracy: 0.6000 - val_loss: 0.6085 - val_accuracy: 0.6000\n",
            "Epoch 4/7\n",
            "1/1 [==============================] - 0s 228ms/step - loss: 0.2915 - accuracy: 0.9000 - val_loss: 0.3615 - val_accuracy: 0.8000\n",
            "Epoch 5/7\n",
            "1/1 [==============================] - 0s 215ms/step - loss: 0.0753 - accuracy: 1.0000 - val_loss: 0.1527 - val_accuracy: 1.0000\n",
            "Epoch 6/7\n",
            "1/1 [==============================] - 0s 223ms/step - loss: 0.0302 - accuracy: 1.0000 - val_loss: 0.0818 - val_accuracy: 1.0000\n",
            "Epoch 7/7\n",
            "1/1 [==============================] - 0s 317ms/step - loss: 0.0181 - accuracy: 1.0000 - val_loss: 0.0661 - val_accuracy: 1.0000\n"
          ]
        }
      ],
      "source": [
        "history = model.fit(\n",
        "    [train_input_ids, train_attention_mask],\n",
        "    train_labels,\n",
        "    validation_data=([test_input_ids, test_attention_mask], test_labels),\n",
        "    epochs=7,\n",
        "    batch_size=32\n",
        ")"
      ]
    },
    {
      "cell_type": "code",
      "execution_count": 36,
      "metadata": {
        "id": "Lezy_6mvzUZ-"
      },
      "outputs": [],
      "source": [
        "model.save_pretrained(\"transformers-bert\", from_pt=True)"
      ]
    },
    {
      "cell_type": "code",
      "execution_count": null,
      "metadata": {},
      "outputs": [],
      "source": [
        "# from zipfile import ZipFile\n",
        "# import shutil\n",
        "\n",
        "# # Buat arsip ZIP dari folder model\n",
        "# shutil.make_archive(\"transformers-bert\", 'zip', \"transformers-bert\")\n",
        "\n",
        "# # Tampilkan tautan unduhan\n",
        "# from google.colab import files\n",
        "# files.download(\"transformers-bert.zip\")\n"
      ]
    },
    {
      "cell_type": "code",
      "execution_count": 37,
      "metadata": {
        "colab": {
          "base_uri": "https://localhost:8080/"
        },
        "id": "RYjLPds90GYz",
        "outputId": "65361ef6-7fb5-4828-c3c3-1ac197d0f482"
      },
      "outputs": [
        {
          "name": "stderr",
          "output_type": "stream",
          "text": [
            "Some layers from the model checkpoint at transformers-bert were not used when initializing TFBertForSequenceClassification: ['dropout_113']\n",
            "- This IS expected if you are initializing TFBertForSequenceClassification from the checkpoint of a model trained on another task or with another architecture (e.g. initializing a BertForSequenceClassification model from a BertForPreTraining model).\n",
            "- This IS NOT expected if you are initializing TFBertForSequenceClassification from the checkpoint of a model that you expect to be exactly identical (initializing a BertForSequenceClassification model from a BertForSequenceClassification model).\n",
            "All the layers of TFBertForSequenceClassification were initialized from the model checkpoint at transformers-bert.\n",
            "If your task is similar to the task the model of the checkpoint was trained on, you can already use TFBertForSequenceClassification for predictions without further training.\n"
          ]
        }
      ],
      "source": [
        "model = TFBertForSequenceClassification.from_pretrained(\"transformers-bert\")"
      ]
    },
    {
      "cell_type": "code",
      "execution_count": 38,
      "metadata": {
        "id": "r67kAGJyBiI6"
      },
      "outputs": [],
      "source": [
        "def predict_sentiment(texts):\n",
        "    # translated_text = translate_to_indo(text)\n",
        "    tokenized_text = tokenizer(\n",
        "        text=texts,\n",
        "        add_special_tokens=True,\n",
        "        max_length=MAX_LENGTH,\n",
        "        truncation=True,\n",
        "        padding='max_length',\n",
        "        return_tensors='tf'\n",
        "    )\n",
        "    input_ids = tokenized_text['input_ids']\n",
        "    attention_mask = tokenized_text['attention_mask']\n",
        "    predictions = model.predict([input_ids, attention_mask], use_multiprocessing=True, workers=2)\n",
        "    logits = predictions.logits\n",
        "    result = {'positive': 0, 'negative': 0}\n",
        "    for pred in predictions.logits:\n",
        "      if pred[0] > pred[1]:\n",
        "        result['negative'] += 1\n",
        "      else:\n",
        "        result['positive'] += 1\n",
        "    return result"
      ]
    },
    {
      "cell_type": "code",
      "execution_count": 39,
      "metadata": {
        "colab": {
          "base_uri": "https://localhost:8080/"
        },
        "id": "Io0EjZPUBnLR",
        "outputId": "9c853504-c8ee-4570-8f02-11bb3b8a0d86"
      },
      "outputs": [
        {
          "name": "stdout",
          "output_type": "stream",
          "text": [
            "1/1 [==============================] - 3s 3s/step\n",
            "Sentiment: {'positive': 4, 'negative': 1}\n"
          ]
        }
      ],
      "source": [
        "text = [\"Produk ini sangat bagus dan saya sangat menyukainya!\", \"mantap\", \"jelek banget\", \"oke lah\", \"kualitas sangat bagus\"]\n",
        "sentiment = predict_sentiment(text)\n",
        "print(f\"Sentiment: {sentiment}\")"
      ]
    },
    {
      "cell_type": "code",
      "execution_count": 40,
      "metadata": {
        "colab": {
          "base_uri": "https://localhost:8080/"
        },
        "id": "JDBM4L1FGhlV",
        "outputId": "2d50e31e-2090-4cb8-85c5-ee316793f2ae"
      },
      "outputs": [
        {
          "name": "stdout",
          "output_type": "stream",
          "text": [
            "1/1 [==============================] - 0s 52ms/step\n",
            "Sentiment: {'positive': 0, 'negative': 1}\n"
          ]
        }
      ],
      "source": [
        "text = \"Jelek banget\"\n",
        "sentiment = predict_sentiment(text)\n",
        "print(f\"Sentiment: {sentiment}\")"
      ]
    },
    {
      "cell_type": "code",
      "execution_count": 41,
      "metadata": {
        "colab": {
          "base_uri": "https://localhost:8080/"
        },
        "id": "yMTYZQyCIO7x",
        "outputId": "a7d52878-26a2-46ac-ba14-1310715c17e6"
      },
      "outputs": [
        {
          "name": "stdout",
          "output_type": "stream",
          "text": [
            "1/1 [==============================] - 0s 52ms/step\n",
            "Sentiment: {'positive': 0, 'negative': 1}\n"
          ]
        }
      ],
      "source": [
        "text = \"Produk ini sangat mengecewakan. Kualitasnya buruk dan tidak sesuai dengan yang diiklankan. Saya tidak merekomendasikan produk ini kepada siapa pun.\"\n",
        "sentiment = predict_sentiment(text)\n",
        "print(f\"Sentiment: {sentiment}\")"
      ]
    },
    {
      "cell_type": "code",
      "execution_count": 42,
      "metadata": {
        "colab": {
          "base_uri": "https://localhost:8080/"
        },
        "id": "oVfJqu0VIjpC",
        "outputId": "5f437b6d-612c-44c1-b6f7-239ac44ee7cc"
      },
      "outputs": [
        {
          "name": "stdout",
          "output_type": "stream",
          "text": [
            "1/1 [==============================] - 0s 55ms/step\n",
            "Sentiment: {'positive': 0, 'negative': 1}\n"
          ]
        }
      ],
      "source": [
        "text = \"Saya tidak puas dengan kualitas produk ini. Sepertinya saya akan mencari pilihan lain.\"\n",
        "sentiment = predict_sentiment(text)\n",
        "print(f\"Sentiment: {sentiment}\")"
      ]
    },
    {
      "cell_type": "code",
      "execution_count": 43,
      "metadata": {
        "colab": {
          "base_uri": "https://localhost:8080/"
        },
        "id": "7QT6yVFWIss3",
        "outputId": "cf9fe8ab-5b91-454b-8462-090620630faf"
      },
      "outputs": [
        {
          "name": "stdout",
          "output_type": "stream",
          "text": [
            "1/1 [==============================] - 0s 54ms/step\n",
            "Sentiment: {'positive': 0, 'negative': 1}\n"
          ]
        }
      ],
      "source": [
        "text = \"Saya merasa produk ini tidak memenuhi ekspektasi saya.\"\n",
        "sentiment = predict_sentiment(text)\n",
        "print(f\"Sentiment: {sentiment}\")"
      ]
    },
    {
      "cell_type": "code",
      "execution_count": 44,
      "metadata": {
        "colab": {
          "base_uri": "https://localhost:8080/"
        },
        "id": "-BXlYXPEJBVT",
        "outputId": "7abe0a21-df40-4238-9773-b90b69da9823"
      },
      "outputs": [
        {
          "name": "stdout",
          "output_type": "stream",
          "text": [
            "1/1 [==============================] - 0s 52ms/step\n",
            "Sentiment: {'positive': 1, 'negative': 0}\n"
          ]
        }
      ],
      "source": [
        "text = \"Produk ini benar-benar luar biasa! Saya sangat terkesan dengan kualitasnya dan sangat merekomendasikannya kepada teman-teman saya.\"\n",
        "sentiment = predict_sentiment(text)\n",
        "print(f\"Sentiment: {sentiment}\")"
      ]
    }
  ],
  "metadata": {
    "accelerator": "GPU",
    "colab": {
      "gpuType": "T4",
      "provenance": []
    },
    "kernelspec": {
      "display_name": "Python 3",
      "name": "python3"
    },
    "language_info": {
      "name": "python"
    }
  },
  "nbformat": 4,
  "nbformat_minor": 0
}
